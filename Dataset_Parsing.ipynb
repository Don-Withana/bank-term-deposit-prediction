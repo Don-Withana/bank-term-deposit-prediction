{
  "nbformat": 4,
  "nbformat_minor": 0,
  "metadata": {
    "colab": {
      "provenance": [],
      "authorship_tag": "ABX9TyM5keGVpDCMwvPM65UXD1uX",
      "include_colab_link": true
    },
    "kernelspec": {
      "name": "python3",
      "display_name": "Python 3"
    },
    "language_info": {
      "name": "python"
    }
  },
  "cells": [
    {
      "cell_type": "markdown",
      "metadata": {
        "id": "view-in-github",
        "colab_type": "text"
      },
      "source": [
        "<a href=\"https://colab.research.google.com/github/Don-Withana/bank-term-deposit-prediction/blob/main/Dataset_Parsing.ipynb\" target=\"_parent\"><img src=\"https://colab.research.google.com/assets/colab-badge.svg\" alt=\"Open In Colab\"/></a>"
      ]
    },
    {
      "cell_type": "markdown",
      "source": [
        "# **Bank Dataset Parsing & Ensure Proper Formatting**"
      ],
      "metadata": {
        "id": "1X6ptnO-me10"
      }
    },
    {
      "cell_type": "markdown",
      "source": [
        "## **Required Libraries**"
      ],
      "metadata": {
        "id": "1cxiCdGym_cH"
      }
    },
    {
      "cell_type": "code",
      "source": [
        "import pandas as pd"
      ],
      "metadata": {
        "id": "tGRJHMmUlZhJ"
      },
      "execution_count": null,
      "outputs": []
    },
    {
      "cell_type": "markdown",
      "source": [
        "## **Dataset: bank.csv**"
      ],
      "metadata": {
        "id": "u8EDCfjGm1KM"
      }
    },
    {
      "cell_type": "code",
      "execution_count": null,
      "metadata": {
        "colab": {
          "base_uri": "https://localhost:8080/"
        },
        "id": "f0sinDOtkY53",
        "outputId": "66105ddb-11b4-45e1-bf1b-e7b6401ce97c"
      },
      "outputs": [
        {
          "output_type": "stream",
          "name": "stdout",
          "text": [
            "Initial Dataset Info:\n",
            "<class 'pandas.core.frame.DataFrame'>\n",
            "RangeIndex: 4521 entries, 0 to 4520\n",
            "Data columns (total 17 columns):\n",
            " #   Column     Non-Null Count  Dtype \n",
            "---  ------     --------------  ----- \n",
            " 0   age        4521 non-null   int64 \n",
            " 1   job        4521 non-null   object\n",
            " 2   marital    4521 non-null   object\n",
            " 3   education  4521 non-null   object\n",
            " 4   default    4521 non-null   object\n",
            " 5   balance    4521 non-null   int64 \n",
            " 6   housing    4521 non-null   object\n",
            " 7   loan       4521 non-null   object\n",
            " 8   contact    4521 non-null   object\n",
            " 9   day        4521 non-null   int64 \n",
            " 10  month      4521 non-null   object\n",
            " 11  duration   4521 non-null   int64 \n",
            " 12  campaign   4521 non-null   int64 \n",
            " 13  pdays      4521 non-null   int64 \n",
            " 14  previous   4521 non-null   int64 \n",
            " 15  poutcome   4521 non-null   object\n",
            " 16  y          4521 non-null   object\n",
            "dtypes: int64(7), object(10)\n",
            "memory usage: 600.6+ KB\n",
            "None\n",
            "\n",
            "Preview of the dataset:\n",
            "   age          job  marital  education default  balance housing loan  \\\n",
            "0   30   unemployed  married    primary      no     1787      no   no   \n",
            "1   33     services  married  secondary      no     4789     yes  yes   \n",
            "2   35   management   single   tertiary      no     1350     yes   no   \n",
            "3   30   management  married   tertiary      no     1476     yes  yes   \n",
            "4   59  blue-collar  married  secondary      no        0     yes   no   \n",
            "\n",
            "    contact  day month  duration  campaign  pdays  previous poutcome   y  \n",
            "0  cellular   19   oct        79         1     -1         0  unknown  no  \n",
            "1  cellular   11   may       220         1    339         4  failure  no  \n",
            "2  cellular   16   apr       185         1    330         1  failure  no  \n",
            "3   unknown    3   jun       199         4     -1         0  unknown  no  \n",
            "4   unknown    5   may       226         1     -1         0  unknown  no  \n",
            "\n",
            "Cleaned dataset saved as: bank-cleaned.csv\n"
          ]
        }
      ],
      "source": [
        "input_file_path = \"bank.csv\"\n",
        "output_file_path = \"bank-cleaned.csv\"\n",
        "\n",
        "try:\n",
        "    data = pd.read_csv(input_file_path, delimiter=';')\n",
        "\n",
        "    print(\"Initial Dataset Info:\")\n",
        "    print(data.info())\n",
        "\n",
        "    print(\"\\nPreview of the dataset:\")\n",
        "    print(data.head())\n",
        "\n",
        "    data.to_csv(output_file_path, index=False)\n",
        "    print(f\"\\nCleaned dataset saved as: {output_file_path}\")\n",
        "except FileNotFoundError:\n",
        "    print(\"The specified input file was not found. Please check the file path.\")\n",
        "except Exception as e:\n",
        "    print(f\"An error occurred: {e}\")"
      ]
    },
    {
      "cell_type": "markdown",
      "source": [
        "## **Dataset: bank-full.csv**"
      ],
      "metadata": {
        "id": "8solQaxZoCOk"
      }
    },
    {
      "cell_type": "code",
      "source": [
        "input_file_path = \"bank-full.csv\"\n",
        "output_file_path = \"bank-full-cleaned.csv\"\n",
        "\n",
        "try:\n",
        "    data = pd.read_csv(input_file_path, delimiter=';')\n",
        "\n",
        "    print(\"Initial Dataset Info:\")\n",
        "    print(data.info())\n",
        "\n",
        "    print(\"\\nPreview of the dataset:\")\n",
        "    print(data.head())\n",
        "\n",
        "    data.to_csv(output_file_path, index=False)\n",
        "    print(f\"\\nCleaned dataset saved as: {output_file_path}\")\n",
        "except FileNotFoundError:\n",
        "    print(\"The specified input file was not found. Please check the file path.\")\n",
        "except Exception as e:\n",
        "    print(f\"An error occurred: {e}\")"
      ],
      "metadata": {
        "colab": {
          "base_uri": "https://localhost:8080/"
        },
        "id": "YDeHmB4fkrFb",
        "outputId": "72c69623-a8b7-4715-c45a-24562969ebbd"
      },
      "execution_count": null,
      "outputs": [
        {
          "output_type": "stream",
          "name": "stdout",
          "text": [
            "Initial Dataset Info:\n",
            "<class 'pandas.core.frame.DataFrame'>\n",
            "RangeIndex: 45211 entries, 0 to 45210\n",
            "Data columns (total 17 columns):\n",
            " #   Column     Non-Null Count  Dtype \n",
            "---  ------     --------------  ----- \n",
            " 0   age        45211 non-null  int64 \n",
            " 1   job        45211 non-null  object\n",
            " 2   marital    45211 non-null  object\n",
            " 3   education  45211 non-null  object\n",
            " 4   default    45211 non-null  object\n",
            " 5   balance    45211 non-null  int64 \n",
            " 6   housing    45211 non-null  object\n",
            " 7   loan       45211 non-null  object\n",
            " 8   contact    45211 non-null  object\n",
            " 9   day        45211 non-null  int64 \n",
            " 10  month      45211 non-null  object\n",
            " 11  duration   45211 non-null  int64 \n",
            " 12  campaign   45211 non-null  int64 \n",
            " 13  pdays      45211 non-null  int64 \n",
            " 14  previous   45211 non-null  int64 \n",
            " 15  poutcome   45211 non-null  object\n",
            " 16  y          45211 non-null  object\n",
            "dtypes: int64(7), object(10)\n",
            "memory usage: 5.9+ MB\n",
            "None\n",
            "\n",
            "Preview of the dataset:\n",
            "   age           job  marital  education default  balance housing loan  \\\n",
            "0   58    management  married   tertiary      no     2143     yes   no   \n",
            "1   44    technician   single  secondary      no       29     yes   no   \n",
            "2   33  entrepreneur  married  secondary      no        2     yes  yes   \n",
            "3   47   blue-collar  married    unknown      no     1506     yes   no   \n",
            "4   33       unknown   single    unknown      no        1      no   no   \n",
            "\n",
            "   contact  day month  duration  campaign  pdays  previous poutcome   y  \n",
            "0  unknown    5   may       261         1     -1         0  unknown  no  \n",
            "1  unknown    5   may       151         1     -1         0  unknown  no  \n",
            "2  unknown    5   may        76         1     -1         0  unknown  no  \n",
            "3  unknown    5   may        92         1     -1         0  unknown  no  \n",
            "4  unknown    5   may       198         1     -1         0  unknown  no  \n",
            "\n",
            "Cleaned dataset saved as: bank-full-cleaned.csv\n"
          ]
        }
      ]
    },
    {
      "cell_type": "markdown",
      "source": [
        "## **Dataset: bank-additional.csv**"
      ],
      "metadata": {
        "id": "mDxdpvWgoa23"
      }
    },
    {
      "cell_type": "code",
      "source": [
        "input_file_path = \"bank-additional.csv\"\n",
        "output_file_path = \"bank-additional-cleaned.csv\"\n",
        "\n",
        "try:\n",
        "    data = pd.read_csv(input_file_path, delimiter=';')\n",
        "\n",
        "    print(\"Initial Dataset Info:\")\n",
        "    print(data.info())\n",
        "\n",
        "    print(\"\\nPreview of the dataset:\")\n",
        "    print(data.head())\n",
        "\n",
        "    data.to_csv(output_file_path, index=False)\n",
        "    print(f\"\\nCleaned dataset saved as: {output_file_path}\")\n",
        "except FileNotFoundError:\n",
        "    print(\"The specified input file was not found. Please check the file path.\")\n",
        "except Exception as e:\n",
        "    print(f\"An error occurred: {e}\")"
      ],
      "metadata": {
        "colab": {
          "base_uri": "https://localhost:8080/"
        },
        "id": "mj9hWESEk7Wf",
        "outputId": "f675a28b-a9ea-4354-c7c3-21a33d2503bc"
      },
      "execution_count": null,
      "outputs": [
        {
          "output_type": "stream",
          "name": "stdout",
          "text": [
            "Initial Dataset Info:\n",
            "<class 'pandas.core.frame.DataFrame'>\n",
            "RangeIndex: 4119 entries, 0 to 4118\n",
            "Data columns (total 21 columns):\n",
            " #   Column          Non-Null Count  Dtype  \n",
            "---  ------          --------------  -----  \n",
            " 0   age             4119 non-null   int64  \n",
            " 1   job             4119 non-null   object \n",
            " 2   marital         4119 non-null   object \n",
            " 3   education       4119 non-null   object \n",
            " 4   default         4119 non-null   object \n",
            " 5   housing         4119 non-null   object \n",
            " 6   loan            4119 non-null   object \n",
            " 7   contact         4119 non-null   object \n",
            " 8   month           4119 non-null   object \n",
            " 9   day_of_week     4119 non-null   object \n",
            " 10  duration        4119 non-null   int64  \n",
            " 11  campaign        4119 non-null   int64  \n",
            " 12  pdays           4119 non-null   int64  \n",
            " 13  previous        4119 non-null   int64  \n",
            " 14  poutcome        4119 non-null   object \n",
            " 15  emp.var.rate    4119 non-null   float64\n",
            " 16  cons.price.idx  4119 non-null   float64\n",
            " 17  cons.conf.idx   4119 non-null   float64\n",
            " 18  euribor3m       4119 non-null   float64\n",
            " 19  nr.employed     4119 non-null   float64\n",
            " 20  y               4119 non-null   object \n",
            "dtypes: float64(5), int64(5), object(11)\n",
            "memory usage: 675.9+ KB\n",
            "None\n",
            "\n",
            "Preview of the dataset:\n",
            "   age          job  marital          education default  housing     loan  \\\n",
            "0   30  blue-collar  married           basic.9y      no      yes       no   \n",
            "1   39     services   single        high.school      no       no       no   \n",
            "2   25     services  married        high.school      no      yes       no   \n",
            "3   38     services  married           basic.9y      no  unknown  unknown   \n",
            "4   47       admin.  married  university.degree      no      yes       no   \n",
            "\n",
            "     contact month day_of_week  ...  campaign  pdays  previous     poutcome  \\\n",
            "0   cellular   may         fri  ...         2    999         0  nonexistent   \n",
            "1  telephone   may         fri  ...         4    999         0  nonexistent   \n",
            "2  telephone   jun         wed  ...         1    999         0  nonexistent   \n",
            "3  telephone   jun         fri  ...         3    999         0  nonexistent   \n",
            "4   cellular   nov         mon  ...         1    999         0  nonexistent   \n",
            "\n",
            "  emp.var.rate  cons.price.idx  cons.conf.idx  euribor3m  nr.employed   y  \n",
            "0         -1.8          92.893          -46.2      1.313       5099.1  no  \n",
            "1          1.1          93.994          -36.4      4.855       5191.0  no  \n",
            "2          1.4          94.465          -41.8      4.962       5228.1  no  \n",
            "3          1.4          94.465          -41.8      4.959       5228.1  no  \n",
            "4         -0.1          93.200          -42.0      4.191       5195.8  no  \n",
            "\n",
            "[5 rows x 21 columns]\n",
            "\n",
            "Cleaned dataset saved as: bank-additional-cleaned.csv\n"
          ]
        }
      ]
    },
    {
      "cell_type": "markdown",
      "source": [
        "## **Dataset: bank-additional-full.csv**"
      ],
      "metadata": {
        "id": "Qk9NLb9Uoi1e"
      }
    },
    {
      "cell_type": "code",
      "source": [
        "input_file_path = \"bank-additional-full.csv\"\n",
        "output_file_path = \"bank-additional-full-cleaned.csv\"\n",
        "\n",
        "try:\n",
        "    data = pd.read_csv(input_file_path, delimiter=';')\n",
        "\n",
        "    print(\"Initial Dataset Info:\")\n",
        "    print(data.info())\n",
        "\n",
        "    print(\"\\nPreview of the dataset:\")\n",
        "    print(data.head())\n",
        "\n",
        "    data.to_csv(output_file_path, index=False)\n",
        "    print(f\"\\nCleaned dataset saved as: {output_file_path}\")\n",
        "except FileNotFoundError:\n",
        "    print(\"The specified input file was not found. Please check the file path.\")\n",
        "except Exception as e:\n",
        "    print(f\"An error occurred: {e}\")"
      ],
      "metadata": {
        "colab": {
          "base_uri": "https://localhost:8080/"
        },
        "id": "NYdazqyUk8ZO",
        "outputId": "4d4f81f5-718c-46d0-9eec-90436a1fd487"
      },
      "execution_count": null,
      "outputs": [
        {
          "output_type": "stream",
          "name": "stdout",
          "text": [
            "Initial Dataset Info:\n",
            "<class 'pandas.core.frame.DataFrame'>\n",
            "RangeIndex: 41188 entries, 0 to 41187\n",
            "Data columns (total 21 columns):\n",
            " #   Column          Non-Null Count  Dtype  \n",
            "---  ------          --------------  -----  \n",
            " 0   age             41188 non-null  int64  \n",
            " 1   job             41188 non-null  object \n",
            " 2   marital         41188 non-null  object \n",
            " 3   education       41188 non-null  object \n",
            " 4   default         41188 non-null  object \n",
            " 5   housing         41188 non-null  object \n",
            " 6   loan            41188 non-null  object \n",
            " 7   contact         41188 non-null  object \n",
            " 8   month           41188 non-null  object \n",
            " 9   day_of_week     41188 non-null  object \n",
            " 10  duration        41188 non-null  int64  \n",
            " 11  campaign        41188 non-null  int64  \n",
            " 12  pdays           41188 non-null  int64  \n",
            " 13  previous        41188 non-null  int64  \n",
            " 14  poutcome        41188 non-null  object \n",
            " 15  emp.var.rate    41188 non-null  float64\n",
            " 16  cons.price.idx  41188 non-null  float64\n",
            " 17  cons.conf.idx   41188 non-null  float64\n",
            " 18  euribor3m       41188 non-null  float64\n",
            " 19  nr.employed     41188 non-null  float64\n",
            " 20  y               41188 non-null  object \n",
            "dtypes: float64(5), int64(5), object(11)\n",
            "memory usage: 6.6+ MB\n",
            "None\n",
            "\n",
            "Preview of the dataset:\n",
            "   age        job  marital    education  default housing loan    contact  \\\n",
            "0   56  housemaid  married     basic.4y       no      no   no  telephone   \n",
            "1   57   services  married  high.school  unknown      no   no  telephone   \n",
            "2   37   services  married  high.school       no     yes   no  telephone   \n",
            "3   40     admin.  married     basic.6y       no      no   no  telephone   \n",
            "4   56   services  married  high.school       no      no  yes  telephone   \n",
            "\n",
            "  month day_of_week  ...  campaign  pdays  previous     poutcome emp.var.rate  \\\n",
            "0   may         mon  ...         1    999         0  nonexistent          1.1   \n",
            "1   may         mon  ...         1    999         0  nonexistent          1.1   \n",
            "2   may         mon  ...         1    999         0  nonexistent          1.1   \n",
            "3   may         mon  ...         1    999         0  nonexistent          1.1   \n",
            "4   may         mon  ...         1    999         0  nonexistent          1.1   \n",
            "\n",
            "   cons.price.idx  cons.conf.idx  euribor3m  nr.employed   y  \n",
            "0          93.994          -36.4      4.857       5191.0  no  \n",
            "1          93.994          -36.4      4.857       5191.0  no  \n",
            "2          93.994          -36.4      4.857       5191.0  no  \n",
            "3          93.994          -36.4      4.857       5191.0  no  \n",
            "4          93.994          -36.4      4.857       5191.0  no  \n",
            "\n",
            "[5 rows x 21 columns]\n",
            "\n",
            "Cleaned dataset saved as: bank-additional-full-cleaned.csv\n"
          ]
        }
      ]
    },
    {
      "cell_type": "code",
      "source": [],
      "metadata": {
        "id": "O_34iBxzll-0"
      },
      "execution_count": null,
      "outputs": []
    }
  ]
}